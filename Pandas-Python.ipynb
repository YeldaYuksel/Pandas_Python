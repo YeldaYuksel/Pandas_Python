{
 "cells": [
  {
   "cell_type": "markdown",
   "id": "e09b88c4",
   "metadata": {
    "papermill": {
     "duration": 0.013373,
     "end_time": "2024-09-11T16:06:40.311447",
     "exception": false,
     "start_time": "2024-09-11T16:06:40.298074",
     "status": "completed"
    },
    "tags": []
   },
   "source": [
    "Pandas is a popular library used for data analysis and data manipulation.\n",
    "\n",
    "It allows to read data from many different sources."
   ]
  },
  {
   "cell_type": "markdown",
   "id": "0120a16f",
   "metadata": {
    "papermill": {
     "duration": 0.008322,
     "end_time": "2024-09-11T16:06:40.328678",
     "exception": false,
     "start_time": "2024-09-11T16:06:40.320356",
     "status": "completed"
    },
    "tags": []
   },
   "source": [
    "**Pandas Data Structures**\n",
    "\n",
    "Series - One dimensional data structure, contain index information\n",
    "\n",
    "Dataframes - Two dimensional data structure, contain index information"
   ]
  },
  {
   "cell_type": "code",
   "execution_count": 1,
   "id": "293b905b",
   "metadata": {
    "execution": {
     "iopub.execute_input": "2024-09-11T16:06:40.348762Z",
     "iopub.status.busy": "2024-09-11T16:06:40.347629Z",
     "iopub.status.idle": "2024-09-11T16:06:40.815168Z",
     "shell.execute_reply": "2024-09-11T16:06:40.814065Z"
    },
    "papermill": {
     "duration": 0.480752,
     "end_time": "2024-09-11T16:06:40.818062",
     "exception": false,
     "start_time": "2024-09-11T16:06:40.337310",
     "status": "completed"
    },
    "tags": []
   },
   "outputs": [],
   "source": [
    "##### Importing Pandas Library #####\n",
    "\n",
    "import pandas as pd"
   ]
  },
  {
   "cell_type": "code",
   "execution_count": 2,
   "id": "4f0466a6",
   "metadata": {
    "execution": {
     "iopub.execute_input": "2024-09-11T16:06:40.841015Z",
     "iopub.status.busy": "2024-09-11T16:06:40.840432Z",
     "iopub.status.idle": "2024-09-11T16:06:40.848973Z",
     "shell.execute_reply": "2024-09-11T16:06:40.847799Z"
    },
    "papermill": {
     "duration": 0.022008,
     "end_time": "2024-09-11T16:06:40.851499",
     "exception": false,
     "start_time": "2024-09-11T16:06:40.829491",
     "status": "completed"
    },
    "tags": []
   },
   "outputs": [],
   "source": [
    "#### Creating Pandas Series and DataFrames ####\n",
    "\n",
    "s = pd.Series([10, 77, 12, 4, 5])\n",
    "\n",
    "dfz = pd.DataFrame([10, 77, 12, 4, 5])"
   ]
  },
  {
   "cell_type": "code",
   "execution_count": 3,
   "id": "7d94d056",
   "metadata": {
    "execution": {
     "iopub.execute_input": "2024-09-11T16:06:40.871344Z",
     "iopub.status.busy": "2024-09-11T16:06:40.870923Z",
     "iopub.status.idle": "2024-09-11T16:06:40.887898Z",
     "shell.execute_reply": "2024-09-11T16:06:40.886814Z"
    },
    "papermill": {
     "duration": 0.030346,
     "end_time": "2024-09-11T16:06:40.891159",
     "exception": false,
     "start_time": "2024-09-11T16:06:40.860813",
     "status": "completed"
    },
    "tags": []
   },
   "outputs": [
    {
     "data": {
      "text/html": [
       "<div>\n",
       "<style scoped>\n",
       "    .dataframe tbody tr th:only-of-type {\n",
       "        vertical-align: middle;\n",
       "    }\n",
       "\n",
       "    .dataframe tbody tr th {\n",
       "        vertical-align: top;\n",
       "    }\n",
       "\n",
       "    .dataframe thead th {\n",
       "        text-align: right;\n",
       "    }\n",
       "</style>\n",
       "<table border=\"1\" class=\"dataframe\">\n",
       "  <thead>\n",
       "    <tr style=\"text-align: right;\">\n",
       "      <th></th>\n",
       "      <th>0</th>\n",
       "    </tr>\n",
       "  </thead>\n",
       "  <tbody>\n",
       "    <tr>\n",
       "      <th>0</th>\n",
       "      <td>10</td>\n",
       "    </tr>\n",
       "    <tr>\n",
       "      <th>1</th>\n",
       "      <td>77</td>\n",
       "    </tr>\n",
       "    <tr>\n",
       "      <th>2</th>\n",
       "      <td>12</td>\n",
       "    </tr>\n",
       "    <tr>\n",
       "      <th>3</th>\n",
       "      <td>4</td>\n",
       "    </tr>\n",
       "    <tr>\n",
       "      <th>4</th>\n",
       "      <td>5</td>\n",
       "    </tr>\n",
       "  </tbody>\n",
       "</table>\n",
       "</div>"
      ],
      "text/plain": [
       "    0\n",
       "0  10\n",
       "1  77\n",
       "2  12\n",
       "3   4\n",
       "4   5"
      ]
     },
     "execution_count": 3,
     "metadata": {},
     "output_type": "execute_result"
    }
   ],
   "source": [
    "### Basic Methods ###\n",
    "\n",
    "# index: -index information\n",
    "# dtype: -data type of elements\n",
    "# size:  -total number of elements\n",
    "# ndim:  -dimension info(1D, 2D, 3D)\n",
    "# head:  -first 5 values\n",
    "# tail:  -last 5 values\n",
    "# shape: -size of each dimension(rows & columns for 2D)\n",
    "# values: -return the values (as an array)\n",
    "\n",
    "\n",
    "## Examples:\n",
    "\n",
    "s.index\n",
    "dfz.index\n",
    "s.head()\n",
    "dfz.tail()"
   ]
  },
  {
   "cell_type": "markdown",
   "id": "edb77d6e",
   "metadata": {
    "papermill": {
     "duration": 0.00863,
     "end_time": "2024-09-11T16:06:40.910991",
     "exception": false,
     "start_time": "2024-09-11T16:06:40.902361",
     "status": "completed"
    },
    "tags": []
   },
   "source": [
    "**Importing dataset from Seaborn to Pandas DataFrame**"
   ]
  },
  {
   "cell_type": "code",
   "execution_count": 4,
   "id": "c0111023",
   "metadata": {
    "execution": {
     "iopub.execute_input": "2024-09-11T16:06:40.931034Z",
     "iopub.status.busy": "2024-09-11T16:06:40.930587Z",
     "iopub.status.idle": "2024-09-11T16:06:42.708388Z",
     "shell.execute_reply": "2024-09-11T16:06:42.706983Z"
    },
    "papermill": {
     "duration": 1.790708,
     "end_time": "2024-09-11T16:06:42.710870",
     "exception": false,
     "start_time": "2024-09-11T16:06:40.920162",
     "status": "completed"
    },
    "tags": []
   },
   "outputs": [
    {
     "name": "stdout",
     "output_type": "stream",
     "text": [
      "<class 'pandas.core.frame.DataFrame'>\n",
      "RangeIndex: 891 entries, 0 to 890\n",
      "Data columns (total 15 columns):\n",
      " #   Column       Non-Null Count  Dtype  \n",
      "---  ------       --------------  -----  \n",
      " 0   survived     891 non-null    int64  \n",
      " 1   pclass       891 non-null    int64  \n",
      " 2   sex          891 non-null    object \n",
      " 3   age          714 non-null    float64\n",
      " 4   sibsp        891 non-null    int64  \n",
      " 5   parch        891 non-null    int64  \n",
      " 6   fare         891 non-null    float64\n",
      " 7   embarked     889 non-null    object \n",
      " 8   class        891 non-null    object \n",
      " 9   who          891 non-null    object \n",
      " 10  adult_male   891 non-null    bool   \n",
      " 11  deck         203 non-null    object \n",
      " 12  embark_town  889 non-null    object \n",
      " 13  alive        891 non-null    object \n",
      " 14  alone        891 non-null    bool   \n",
      "dtypes: bool(2), float64(2), int64(4), object(7)\n",
      "memory usage: 92.4+ KB\n"
     ]
    },
    {
     "data": {
      "text/plain": [
       "RangeIndex(start=0, stop=891, step=1)"
      ]
     },
     "execution_count": 4,
     "metadata": {},
     "output_type": "execute_result"
    }
   ],
   "source": [
    "import pandas as pd\n",
    "import seaborn as sns\n",
    "\n",
    "#df = sns.load_dataset(\"titanic\")\n",
    "df = pd.read_csv(\"/kaggle/input/titanic-dataset-csv/titanic.csv\")\n",
    "\n",
    "df.head(2)\n",
    "\n",
    "df.tail(1)\n",
    "\n",
    "df.shape  ##output: (891, 15) -- 891 rows and 15 columns\n",
    "\n",
    "df.info()\n",
    "\n",
    "df.columns\n",
    "\n",
    "df.index  ##output: RangeIndex(start=0, stop=891, step=1)"
   ]
  },
  {
   "cell_type": "markdown",
   "id": "3fa8e520",
   "metadata": {
    "papermill": {
     "duration": 0.008749,
     "end_time": "2024-09-11T16:06:42.728681",
     "exception": false,
     "start_time": "2024-09-11T16:06:42.719932",
     "status": "completed"
    },
    "tags": []
   },
   "source": [
    "**Selection in Pandas**"
   ]
  },
  {
   "cell_type": "code",
   "execution_count": 5,
   "id": "9c11b3d3",
   "metadata": {
    "execution": {
     "iopub.execute_input": "2024-09-11T16:06:42.749071Z",
     "iopub.status.busy": "2024-09-11T16:06:42.748032Z",
     "iopub.status.idle": "2024-09-11T16:06:42.768084Z",
     "shell.execute_reply": "2024-09-11T16:06:42.766697Z"
    },
    "papermill": {
     "duration": 0.033272,
     "end_time": "2024-09-11T16:06:42.770921",
     "exception": false,
     "start_time": "2024-09-11T16:06:42.737649",
     "status": "completed"
    },
    "tags": []
   },
   "outputs": [],
   "source": [
    "import pandas as pd\n",
    "import seaborn as sns\n",
    "\n",
    "#df = sns.load_dataset(\"titanic\")\n",
    "df = pd.read_csv(\"/kaggle/input/titanic-dataset-csv/titanic.csv\")\n",
    "\n",
    "df[0:13] ##slicing first 13 rows\n",
    "\n",
    "df[[\"age\"]] ##selecting \"age\" variable column\n",
    "\n",
    "df[[\"age\", \"alive\"]] ##selecting more than one column\n",
    "\n",
    "col_names = [\"age\", \"adult_male\", \"alive\"]\n",
    "df[col_names]     ##selecting multiple columns\n",
    "\n",
    "df[\"age_square\"] = df[\"age\"]**2  ##Adding new column"
   ]
  },
  {
   "cell_type": "markdown",
   "id": "5c229fb3",
   "metadata": {
    "papermill": {
     "duration": 0.008834,
     "end_time": "2024-09-11T16:06:42.788936",
     "exception": false,
     "start_time": "2024-09-11T16:06:42.780102",
     "status": "completed"
    },
    "tags": []
   },
   "source": [
    "**Deleting Rows - Columns**"
   ]
  },
  {
   "cell_type": "code",
   "execution_count": 6,
   "id": "d5aae0c4",
   "metadata": {
    "execution": {
     "iopub.execute_input": "2024-09-11T16:06:42.809416Z",
     "iopub.status.busy": "2024-09-11T16:06:42.808648Z",
     "iopub.status.idle": "2024-09-11T16:06:42.814068Z",
     "shell.execute_reply": "2024-09-11T16:06:42.812967Z"
    },
    "papermill": {
     "duration": 0.018361,
     "end_time": "2024-09-11T16:06:42.816366",
     "exception": false,
     "start_time": "2024-09-11T16:06:42.798005",
     "status": "completed"
    },
    "tags": []
   },
   "outputs": [],
   "source": [
    "#df.drop(0, axis=0).head()             ## 0 ---> index zero , axis=0 ---> Row\n",
    "\n",
    "#delete_indexes = [1, 3, 5, 7]\n",
    "#df.drop(delete_indexes, axis=0).head(10)     ## deletes index 1, 3, 5, and 7\n",
    "\n",
    "\n",
    "## İşlemin kalıcı olması için (To modify  the existing dataframe 'df') :\n",
    "#df = df.drop(delete_indexes, axis=0)               ##OR\n",
    "#df.drop(delete_indexes, axis=0, inplace=True)\n",
    "\n",
    "##deleting columns\n",
    "\n",
    "#df.drop(\"age\", axis=1)                      # deletes column 'age'\n",
    "\n",
    "#col_names = [\"age\", \"adult_male\", \"alive\"]\n",
    "#df.drop(col_names, axis=1)      # deletes 3 columns"
   ]
  },
  {
   "cell_type": "markdown",
   "id": "859e4d04",
   "metadata": {
    "papermill": {
     "duration": 0.00873,
     "end_time": "2024-09-11T16:06:42.834224",
     "exception": false,
     "start_time": "2024-09-11T16:06:42.825494",
     "status": "completed"
    },
    "tags": []
   },
   "source": [
    "**Converting Variable to an Index**"
   ]
  },
  {
   "cell_type": "code",
   "execution_count": 7,
   "id": "c0883def",
   "metadata": {
    "execution": {
     "iopub.execute_input": "2024-09-11T16:06:42.855896Z",
     "iopub.status.busy": "2024-09-11T16:06:42.855040Z",
     "iopub.status.idle": "2024-09-11T16:06:42.860542Z",
     "shell.execute_reply": "2024-09-11T16:06:42.859443Z"
    },
    "papermill": {
     "duration": 0.018578,
     "end_time": "2024-09-11T16:06:42.862980",
     "exception": false,
     "start_time": "2024-09-11T16:06:42.844402",
     "status": "completed"
    },
    "tags": []
   },
   "outputs": [],
   "source": [
    "df.index = df[\"age\"]\n",
    "## The \"age\" column is now set as the index of the DataFrame\n",
    "\n",
    "#df.drop(\"age\", axis=1)\n",
    "## drop the \"age\" column from the DataFrame\n",
    "\n",
    "#df.drop(\"age\", axis=1, inplace=True) \n",
    "# This permanently drops"
   ]
  },
  {
   "cell_type": "markdown",
   "id": "6a1f8db4",
   "metadata": {
    "papermill": {
     "duration": 0.00861,
     "end_time": "2024-09-11T16:06:42.880648",
     "exception": false,
     "start_time": "2024-09-11T16:06:42.872038",
     "status": "completed"
    },
    "tags": []
   },
   "source": [
    "**Converting Index to a Variable**"
   ]
  },
  {
   "cell_type": "code",
   "execution_count": 8,
   "id": "6637ea1b",
   "metadata": {
    "execution": {
     "iopub.execute_input": "2024-09-11T16:06:42.900600Z",
     "iopub.status.busy": "2024-09-11T16:06:42.900202Z",
     "iopub.status.idle": "2024-09-11T16:06:42.905972Z",
     "shell.execute_reply": "2024-09-11T16:06:42.904751Z"
    },
    "papermill": {
     "duration": 0.018809,
     "end_time": "2024-09-11T16:06:42.908457",
     "exception": false,
     "start_time": "2024-09-11T16:06:42.889648",
     "status": "completed"
    },
    "tags": []
   },
   "outputs": [],
   "source": [
    "df[\"age\"] = df.index\n",
    "                      ### OR ###\n",
    "#df.reset_index()"
   ]
  },
  {
   "cell_type": "markdown",
   "id": "759407c5",
   "metadata": {
    "papermill": {
     "duration": 0.008898,
     "end_time": "2024-09-11T16:06:42.927329",
     "exception": false,
     "start_time": "2024-09-11T16:06:42.918431",
     "status": "completed"
    },
    "tags": []
   },
   "source": [
    "**Loc and iloc Methods**"
   ]
  },
  {
   "cell_type": "code",
   "execution_count": 9,
   "id": "58c50ef1",
   "metadata": {
    "execution": {
     "iopub.execute_input": "2024-09-11T16:06:42.947937Z",
     "iopub.status.busy": "2024-09-11T16:06:42.946946Z",
     "iopub.status.idle": "2024-09-11T16:06:42.968248Z",
     "shell.execute_reply": "2024-09-11T16:06:42.966804Z"
    },
    "papermill": {
     "duration": 0.034597,
     "end_time": "2024-09-11T16:06:42.970977",
     "exception": false,
     "start_time": "2024-09-11T16:06:42.936380",
     "status": "completed"
    },
    "tags": []
   },
   "outputs": [
    {
     "name": "stdout",
     "output_type": "stream",
     "text": [
      "   survived  pclass     sex   age  sibsp  parch     fare embarked  class  \\\n",
      "0         0       3    male  22.0      1      0   7.2500        S  Third   \n",
      "1         1       1  female  38.0      1      0  71.2833        C  First   \n",
      "2         1       3  female  26.0      0      0   7.9250        S  Third   \n",
      "\n",
      "     who  adult_male deck  embark_town alive  alone  \n",
      "0    man        True  NaN  Southampton    no  False  \n",
      "1  woman       False    C    Cherbourg   yes  False  \n",
      "2  woman       False  NaN  Southampton   yes   True  \n"
     ]
    }
   ],
   "source": [
    "df = pd.read_csv(\"/kaggle/input/titanic-dataset-csv/titanic.csv\")\n",
    "\n",
    "df.iloc[0, 0]  ## Accessing first row and first column\n",
    "\n",
    "df.iloc[0:2]   ## Accessing first and second row\n",
    "\n",
    "df.loc[0:1, 'age'] ##Accessing with label\n",
    "\n",
    "print(df.loc[0:2])    ## Accessing first, second, and third row\n",
    "\n",
    "\n",
    "\n"
   ]
  },
  {
   "cell_type": "markdown",
   "id": "5590df03",
   "metadata": {
    "papermill": {
     "duration": 0.009204,
     "end_time": "2024-09-11T16:06:42.989808",
     "exception": false,
     "start_time": "2024-09-11T16:06:42.980604",
     "status": "completed"
    },
    "tags": []
   },
   "source": [
    "**Conditional Selection**"
   ]
  },
  {
   "cell_type": "code",
   "execution_count": 10,
   "id": "dffb6ac8",
   "metadata": {
    "execution": {
     "iopub.execute_input": "2024-09-11T16:06:43.010977Z",
     "iopub.status.busy": "2024-09-11T16:06:43.010085Z",
     "iopub.status.idle": "2024-09-11T16:06:43.037021Z",
     "shell.execute_reply": "2024-09-11T16:06:43.035829Z"
    },
    "papermill": {
     "duration": 0.040138,
     "end_time": "2024-09-11T16:06:43.039403",
     "exception": false,
     "start_time": "2024-09-11T16:06:42.999265",
     "status": "completed"
    },
    "tags": []
   },
   "outputs": [
    {
     "data": {
      "text/html": [
       "<div>\n",
       "<style scoped>\n",
       "    .dataframe tbody tr th:only-of-type {\n",
       "        vertical-align: middle;\n",
       "    }\n",
       "\n",
       "    .dataframe tbody tr th {\n",
       "        vertical-align: top;\n",
       "    }\n",
       "\n",
       "    .dataframe thead th {\n",
       "        text-align: right;\n",
       "    }\n",
       "</style>\n",
       "<table border=\"1\" class=\"dataframe\">\n",
       "  <thead>\n",
       "    <tr style=\"text-align: right;\">\n",
       "      <th></th>\n",
       "      <th>age</th>\n",
       "      <th>class</th>\n",
       "    </tr>\n",
       "  </thead>\n",
       "  <tbody>\n",
       "    <tr>\n",
       "      <th>6</th>\n",
       "      <td>54.0</td>\n",
       "      <td>First</td>\n",
       "    </tr>\n",
       "    <tr>\n",
       "      <th>33</th>\n",
       "      <td>66.0</td>\n",
       "      <td>Second</td>\n",
       "    </tr>\n",
       "    <tr>\n",
       "      <th>54</th>\n",
       "      <td>65.0</td>\n",
       "      <td>First</td>\n",
       "    </tr>\n",
       "    <tr>\n",
       "      <th>94</th>\n",
       "      <td>59.0</td>\n",
       "      <td>Third</td>\n",
       "    </tr>\n",
       "    <tr>\n",
       "      <th>96</th>\n",
       "      <td>71.0</td>\n",
       "      <td>First</td>\n",
       "    </tr>\n",
       "    <tr>\n",
       "      <th>116</th>\n",
       "      <td>70.5</td>\n",
       "      <td>Third</td>\n",
       "    </tr>\n",
       "    <tr>\n",
       "      <th>124</th>\n",
       "      <td>54.0</td>\n",
       "      <td>First</td>\n",
       "    </tr>\n",
       "    <tr>\n",
       "      <th>150</th>\n",
       "      <td>51.0</td>\n",
       "      <td>Second</td>\n",
       "    </tr>\n",
       "    <tr>\n",
       "      <th>152</th>\n",
       "      <td>55.5</td>\n",
       "      <td>Third</td>\n",
       "    </tr>\n",
       "    <tr>\n",
       "      <th>155</th>\n",
       "      <td>51.0</td>\n",
       "      <td>First</td>\n",
       "    </tr>\n",
       "    <tr>\n",
       "      <th>170</th>\n",
       "      <td>61.0</td>\n",
       "      <td>First</td>\n",
       "    </tr>\n",
       "    <tr>\n",
       "      <th>174</th>\n",
       "      <td>56.0</td>\n",
       "      <td>First</td>\n",
       "    </tr>\n",
       "    <tr>\n",
       "      <th>222</th>\n",
       "      <td>51.0</td>\n",
       "      <td>Third</td>\n",
       "    </tr>\n",
       "    <tr>\n",
       "      <th>232</th>\n",
       "      <td>59.0</td>\n",
       "      <td>Second</td>\n",
       "    </tr>\n",
       "    <tr>\n",
       "      <th>249</th>\n",
       "      <td>54.0</td>\n",
       "      <td>Second</td>\n",
       "    </tr>\n",
       "    <tr>\n",
       "      <th>252</th>\n",
       "      <td>62.0</td>\n",
       "      <td>First</td>\n",
       "    </tr>\n",
       "    <tr>\n",
       "      <th>262</th>\n",
       "      <td>52.0</td>\n",
       "      <td>First</td>\n",
       "    </tr>\n",
       "    <tr>\n",
       "      <th>280</th>\n",
       "      <td>65.0</td>\n",
       "      <td>Third</td>\n",
       "    </tr>\n",
       "    <tr>\n",
       "      <th>317</th>\n",
       "      <td>54.0</td>\n",
       "      <td>Second</td>\n",
       "    </tr>\n",
       "    <tr>\n",
       "      <th>326</th>\n",
       "      <td>61.0</td>\n",
       "      <td>Third</td>\n",
       "    </tr>\n",
       "    <tr>\n",
       "      <th>406</th>\n",
       "      <td>51.0</td>\n",
       "      <td>Third</td>\n",
       "    </tr>\n",
       "    <tr>\n",
       "      <th>438</th>\n",
       "      <td>64.0</td>\n",
       "      <td>First</td>\n",
       "    </tr>\n",
       "    <tr>\n",
       "      <th>449</th>\n",
       "      <td>52.0</td>\n",
       "      <td>First</td>\n",
       "    </tr>\n",
       "    <tr>\n",
       "      <th>456</th>\n",
       "      <td>65.0</td>\n",
       "      <td>First</td>\n",
       "    </tr>\n",
       "    <tr>\n",
       "      <th>467</th>\n",
       "      <td>56.0</td>\n",
       "      <td>First</td>\n",
       "    </tr>\n",
       "    <tr>\n",
       "      <th>487</th>\n",
       "      <td>58.0</td>\n",
       "      <td>First</td>\n",
       "    </tr>\n",
       "    <tr>\n",
       "      <th>492</th>\n",
       "      <td>55.0</td>\n",
       "      <td>First</td>\n",
       "    </tr>\n",
       "    <tr>\n",
       "      <th>493</th>\n",
       "      <td>71.0</td>\n",
       "      <td>First</td>\n",
       "    </tr>\n",
       "    <tr>\n",
       "      <th>545</th>\n",
       "      <td>64.0</td>\n",
       "      <td>First</td>\n",
       "    </tr>\n",
       "    <tr>\n",
       "      <th>555</th>\n",
       "      <td>62.0</td>\n",
       "      <td>First</td>\n",
       "    </tr>\n",
       "    <tr>\n",
       "      <th>570</th>\n",
       "      <td>62.0</td>\n",
       "      <td>Second</td>\n",
       "    </tr>\n",
       "    <tr>\n",
       "      <th>582</th>\n",
       "      <td>54.0</td>\n",
       "      <td>Second</td>\n",
       "    </tr>\n",
       "    <tr>\n",
       "      <th>587</th>\n",
       "      <td>60.0</td>\n",
       "      <td>First</td>\n",
       "    </tr>\n",
       "    <tr>\n",
       "      <th>625</th>\n",
       "      <td>61.0</td>\n",
       "      <td>First</td>\n",
       "    </tr>\n",
       "    <tr>\n",
       "      <th>626</th>\n",
       "      <td>57.0</td>\n",
       "      <td>Second</td>\n",
       "    </tr>\n",
       "    <tr>\n",
       "      <th>630</th>\n",
       "      <td>80.0</td>\n",
       "      <td>First</td>\n",
       "    </tr>\n",
       "    <tr>\n",
       "      <th>631</th>\n",
       "      <td>51.0</td>\n",
       "      <td>Third</td>\n",
       "    </tr>\n",
       "    <tr>\n",
       "      <th>647</th>\n",
       "      <td>56.0</td>\n",
       "      <td>First</td>\n",
       "    </tr>\n",
       "    <tr>\n",
       "      <th>659</th>\n",
       "      <td>58.0</td>\n",
       "      <td>First</td>\n",
       "    </tr>\n",
       "    <tr>\n",
       "      <th>672</th>\n",
       "      <td>70.0</td>\n",
       "      <td>Second</td>\n",
       "    </tr>\n",
       "    <tr>\n",
       "      <th>684</th>\n",
       "      <td>60.0</td>\n",
       "      <td>Second</td>\n",
       "    </tr>\n",
       "    <tr>\n",
       "      <th>694</th>\n",
       "      <td>60.0</td>\n",
       "      <td>First</td>\n",
       "    </tr>\n",
       "    <tr>\n",
       "      <th>695</th>\n",
       "      <td>52.0</td>\n",
       "      <td>Second</td>\n",
       "    </tr>\n",
       "    <tr>\n",
       "      <th>714</th>\n",
       "      <td>52.0</td>\n",
       "      <td>Second</td>\n",
       "    </tr>\n",
       "    <tr>\n",
       "      <th>745</th>\n",
       "      <td>70.0</td>\n",
       "      <td>First</td>\n",
       "    </tr>\n",
       "    <tr>\n",
       "      <th>851</th>\n",
       "      <td>74.0</td>\n",
       "      <td>Third</td>\n",
       "    </tr>\n",
       "    <tr>\n",
       "      <th>857</th>\n",
       "      <td>51.0</td>\n",
       "      <td>First</td>\n",
       "    </tr>\n",
       "  </tbody>\n",
       "</table>\n",
       "</div>"
      ],
      "text/plain": [
       "      age   class\n",
       "6    54.0   First\n",
       "33   66.0  Second\n",
       "54   65.0   First\n",
       "94   59.0   Third\n",
       "96   71.0   First\n",
       "116  70.5   Third\n",
       "124  54.0   First\n",
       "150  51.0  Second\n",
       "152  55.5   Third\n",
       "155  51.0   First\n",
       "170  61.0   First\n",
       "174  56.0   First\n",
       "222  51.0   Third\n",
       "232  59.0  Second\n",
       "249  54.0  Second\n",
       "252  62.0   First\n",
       "262  52.0   First\n",
       "280  65.0   Third\n",
       "317  54.0  Second\n",
       "326  61.0   Third\n",
       "406  51.0   Third\n",
       "438  64.0   First\n",
       "449  52.0   First\n",
       "456  65.0   First\n",
       "467  56.0   First\n",
       "487  58.0   First\n",
       "492  55.0   First\n",
       "493  71.0   First\n",
       "545  64.0   First\n",
       "555  62.0   First\n",
       "570  62.0  Second\n",
       "582  54.0  Second\n",
       "587  60.0   First\n",
       "625  61.0   First\n",
       "626  57.0  Second\n",
       "630  80.0   First\n",
       "631  51.0   Third\n",
       "647  56.0   First\n",
       "659  58.0   First\n",
       "672  70.0  Second\n",
       "684  60.0  Second\n",
       "694  60.0   First\n",
       "695  52.0  Second\n",
       "714  52.0  Second\n",
       "745  70.0   First\n",
       "851  74.0   Third\n",
       "857  51.0   First"
      ]
     },
     "execution_count": 10,
     "metadata": {},
     "output_type": "execute_result"
    }
   ],
   "source": [
    "df[df['age'] > 50] ##select rows where the age > 50\n",
    "\n",
    "df.loc[df['age'] > 50, 'class'] ##select class information\n",
    "\n",
    "df.loc[df['age'] > 50, ['age', 'class']] ##select age and class information\n",
    "\n",
    "df.loc[(df['age'] > 50) & (df['sex'] == 'male'), ['age', 'class']] ## and (&) condition"
   ]
  },
  {
   "cell_type": "markdown",
   "id": "5159fa98",
   "metadata": {
    "papermill": {
     "duration": 0.009867,
     "end_time": "2024-09-11T16:06:43.059010",
     "exception": false,
     "start_time": "2024-09-11T16:06:43.049143",
     "status": "completed"
    },
    "tags": []
   },
   "source": [
    "**Aggregation & Grouping**"
   ]
  },
  {
   "cell_type": "code",
   "execution_count": 11,
   "id": "a43ee945",
   "metadata": {
    "execution": {
     "iopub.execute_input": "2024-09-11T16:06:43.080403Z",
     "iopub.status.busy": "2024-09-11T16:06:43.079975Z",
     "iopub.status.idle": "2024-09-11T16:06:43.105120Z",
     "shell.execute_reply": "2024-09-11T16:06:43.104019Z"
    },
    "papermill": {
     "duration": 0.039191,
     "end_time": "2024-09-11T16:06:43.107887",
     "exception": false,
     "start_time": "2024-09-11T16:06:43.068696",
     "status": "completed"
    },
    "tags": []
   },
   "outputs": [
    {
     "data": {
      "text/html": [
       "<div>\n",
       "<style scoped>\n",
       "    .dataframe tbody tr th:only-of-type {\n",
       "        vertical-align: middle;\n",
       "    }\n",
       "\n",
       "    .dataframe tbody tr th {\n",
       "        vertical-align: top;\n",
       "    }\n",
       "\n",
       "    .dataframe thead tr th {\n",
       "        text-align: left;\n",
       "    }\n",
       "\n",
       "    .dataframe thead tr:last-of-type th {\n",
       "        text-align: right;\n",
       "    }\n",
       "</style>\n",
       "<table border=\"1\" class=\"dataframe\">\n",
       "  <thead>\n",
       "    <tr>\n",
       "      <th></th>\n",
       "      <th></th>\n",
       "      <th>age</th>\n",
       "      <th>survived</th>\n",
       "    </tr>\n",
       "    <tr>\n",
       "      <th></th>\n",
       "      <th></th>\n",
       "      <th>mean</th>\n",
       "      <th>mean</th>\n",
       "    </tr>\n",
       "    <tr>\n",
       "      <th>sex</th>\n",
       "      <th>embark_town</th>\n",
       "      <th></th>\n",
       "      <th></th>\n",
       "    </tr>\n",
       "  </thead>\n",
       "  <tbody>\n",
       "    <tr>\n",
       "      <th rowspan=\"3\" valign=\"top\">female</th>\n",
       "      <th>Cherbourg</th>\n",
       "      <td>28.344262</td>\n",
       "      <td>0.876712</td>\n",
       "    </tr>\n",
       "    <tr>\n",
       "      <th>Queenstown</th>\n",
       "      <td>24.291667</td>\n",
       "      <td>0.750000</td>\n",
       "    </tr>\n",
       "    <tr>\n",
       "      <th>Southampton</th>\n",
       "      <td>27.771505</td>\n",
       "      <td>0.689655</td>\n",
       "    </tr>\n",
       "    <tr>\n",
       "      <th rowspan=\"3\" valign=\"top\">male</th>\n",
       "      <th>Cherbourg</th>\n",
       "      <td>32.998841</td>\n",
       "      <td>0.305263</td>\n",
       "    </tr>\n",
       "    <tr>\n",
       "      <th>Queenstown</th>\n",
       "      <td>30.937500</td>\n",
       "      <td>0.073171</td>\n",
       "    </tr>\n",
       "    <tr>\n",
       "      <th>Southampton</th>\n",
       "      <td>30.291440</td>\n",
       "      <td>0.174603</td>\n",
       "    </tr>\n",
       "  </tbody>\n",
       "</table>\n",
       "</div>"
      ],
      "text/plain": [
       "                          age  survived\n",
       "                         mean      mean\n",
       "sex    embark_town                     \n",
       "female Cherbourg    28.344262  0.876712\n",
       "       Queenstown   24.291667  0.750000\n",
       "       Southampton  27.771505  0.689655\n",
       "male   Cherbourg    32.998841  0.305263\n",
       "       Queenstown   30.937500  0.073171\n",
       "       Southampton  30.291440  0.174603"
      ]
     },
     "execution_count": 11,
     "metadata": {},
     "output_type": "execute_result"
    }
   ],
   "source": [
    "###Group by\n",
    "\n",
    "df[\"age\"].mean() ##output: 29.69911764705882 --gives the mean of age\n",
    "\n",
    "df.groupby(\"sex\")[\"age\"].mean() ##gives the mean of age separately\n",
    "\n",
    "\n",
    "\n",
    "###aggregation\n",
    "\n",
    "df.groupby(\"sex\").agg({\"age\" : \"mean\"})\n",
    "\n",
    "\n",
    "\n",
    "\n",
    "##Group by two levels\n",
    "\n",
    "df.groupby([\"sex\", \"embark_town\"]).agg({\"age\" : [\"mean\"], \"survived\": \"mean\"})\n",
    "\n"
   ]
  },
  {
   "cell_type": "markdown",
   "id": "3ad24027",
   "metadata": {
    "papermill": {
     "duration": 0.009877,
     "end_time": "2024-09-11T16:06:43.128334",
     "exception": false,
     "start_time": "2024-09-11T16:06:43.118457",
     "status": "completed"
    },
    "tags": []
   },
   "source": [
    "**Pivot Table**"
   ]
  },
  {
   "cell_type": "code",
   "execution_count": 12,
   "id": "b52a6531",
   "metadata": {
    "execution": {
     "iopub.execute_input": "2024-09-11T16:06:43.150415Z",
     "iopub.status.busy": "2024-09-11T16:06:43.149945Z",
     "iopub.status.idle": "2024-09-11T16:06:43.218414Z",
     "shell.execute_reply": "2024-09-11T16:06:43.217118Z"
    },
    "papermill": {
     "duration": 0.08313,
     "end_time": "2024-09-11T16:06:43.221514",
     "exception": false,
     "start_time": "2024-09-11T16:06:43.138384",
     "status": "completed"
    },
    "tags": []
   },
   "outputs": [
    {
     "name": "stderr",
     "output_type": "stream",
     "text": [
      "/tmp/ipykernel_18/1273530057.py:16: FutureWarning: The default value of observed=False is deprecated and will change to observed=True in a future version of pandas. Specify observed=False to silence this warning and retain the current behavior\n",
      "  df.pivot_table(\"survived\", \"sex\", [\"new_age\", \"class\"]) ##add new_age and class column\n"
     ]
    },
    {
     "data": {
      "text/html": [
       "<div>\n",
       "<style scoped>\n",
       "    .dataframe tbody tr th:only-of-type {\n",
       "        vertical-align: middle;\n",
       "    }\n",
       "\n",
       "    .dataframe tbody tr th {\n",
       "        vertical-align: top;\n",
       "    }\n",
       "\n",
       "    .dataframe thead tr th {\n",
       "        text-align: left;\n",
       "    }\n",
       "\n",
       "    .dataframe thead tr:last-of-type th {\n",
       "        text-align: right;\n",
       "    }\n",
       "</style>\n",
       "<table border=\"1\" class=\"dataframe\">\n",
       "  <thead>\n",
       "    <tr>\n",
       "      <th>new_age</th>\n",
       "      <th colspan=\"3\" halign=\"left\">(0, 10]</th>\n",
       "      <th colspan=\"3\" halign=\"left\">(10, 18]</th>\n",
       "      <th colspan=\"3\" halign=\"left\">(18, 25]</th>\n",
       "      <th colspan=\"3\" halign=\"left\">(25, 40]</th>\n",
       "      <th colspan=\"3\" halign=\"left\">(40, 90]</th>\n",
       "    </tr>\n",
       "    <tr>\n",
       "      <th>class</th>\n",
       "      <th>First</th>\n",
       "      <th>Second</th>\n",
       "      <th>Third</th>\n",
       "      <th>First</th>\n",
       "      <th>Second</th>\n",
       "      <th>Third</th>\n",
       "      <th>First</th>\n",
       "      <th>Second</th>\n",
       "      <th>Third</th>\n",
       "      <th>First</th>\n",
       "      <th>Second</th>\n",
       "      <th>Third</th>\n",
       "      <th>First</th>\n",
       "      <th>Second</th>\n",
       "      <th>Third</th>\n",
       "    </tr>\n",
       "    <tr>\n",
       "      <th>sex</th>\n",
       "      <th></th>\n",
       "      <th></th>\n",
       "      <th></th>\n",
       "      <th></th>\n",
       "      <th></th>\n",
       "      <th></th>\n",
       "      <th></th>\n",
       "      <th></th>\n",
       "      <th></th>\n",
       "      <th></th>\n",
       "      <th></th>\n",
       "      <th></th>\n",
       "      <th></th>\n",
       "      <th></th>\n",
       "      <th></th>\n",
       "    </tr>\n",
       "  </thead>\n",
       "  <tbody>\n",
       "    <tr>\n",
       "      <th>female</th>\n",
       "      <td>0.0</td>\n",
       "      <td>1.0</td>\n",
       "      <td>0.500000</td>\n",
       "      <td>1.000000</td>\n",
       "      <td>1.0</td>\n",
       "      <td>0.523810</td>\n",
       "      <td>0.941176</td>\n",
       "      <td>0.933333</td>\n",
       "      <td>0.500000</td>\n",
       "      <td>1.000000</td>\n",
       "      <td>0.906250</td>\n",
       "      <td>0.464286</td>\n",
       "      <td>0.961538</td>\n",
       "      <td>0.846154</td>\n",
       "      <td>0.111111</td>\n",
       "    </tr>\n",
       "    <tr>\n",
       "      <th>male</th>\n",
       "      <td>1.0</td>\n",
       "      <td>1.0</td>\n",
       "      <td>0.363636</td>\n",
       "      <td>0.666667</td>\n",
       "      <td>0.0</td>\n",
       "      <td>0.103448</td>\n",
       "      <td>0.333333</td>\n",
       "      <td>0.047619</td>\n",
       "      <td>0.115385</td>\n",
       "      <td>0.513514</td>\n",
       "      <td>0.071429</td>\n",
       "      <td>0.172043</td>\n",
       "      <td>0.280000</td>\n",
       "      <td>0.095238</td>\n",
       "      <td>0.064516</td>\n",
       "    </tr>\n",
       "  </tbody>\n",
       "</table>\n",
       "</div>"
      ],
      "text/plain": [
       "new_age (0, 10]                   (10, 18]                   (18, 25]  \\\n",
       "class     First Second     Third     First Second     Third     First   \n",
       "sex                                                                     \n",
       "female      0.0    1.0  0.500000  1.000000    1.0  0.523810  0.941176   \n",
       "male        1.0    1.0  0.363636  0.666667    0.0  0.103448  0.333333   \n",
       "\n",
       "new_age                      (25, 40]                      (40, 90]            \\\n",
       "class      Second     Third     First    Second     Third     First    Second   \n",
       "sex                                                                             \n",
       "female   0.933333  0.500000  1.000000  0.906250  0.464286  0.961538  0.846154   \n",
       "male     0.047619  0.115385  0.513514  0.071429  0.172043  0.280000  0.095238   \n",
       "\n",
       "new_age            \n",
       "class       Third  \n",
       "sex                \n",
       "female   0.111111  \n",
       "male     0.064516  "
      ]
     },
     "execution_count": 12,
     "metadata": {},
     "output_type": "execute_result"
    }
   ],
   "source": [
    "###Pivot table (similar to groupby)\n",
    "\n",
    "df.pivot_table(\"survived\", \"sex\", [\"embarked\", \"class\"])\n",
    "\n",
    "#survived ---> values argument\n",
    "#sex ------> index-row\n",
    "#embarked, class ------> columns\n",
    "\n",
    "\n",
    "# Cut function\n",
    "\n",
    "df[\"new_age\"] = pd.cut(df[\"age\"], [0, 10, 18, 25, 40, 90]) ## create a range of ages\n",
    "\n",
    "df.head()\n",
    "\n",
    "df.pivot_table(\"survived\", \"sex\", [\"new_age\", \"class\"]) ##add new_age and class column"
   ]
  },
  {
   "cell_type": "markdown",
   "id": "35fe93d9",
   "metadata": {
    "papermill": {
     "duration": 0.010237,
     "end_time": "2024-09-11T16:06:43.242290",
     "exception": false,
     "start_time": "2024-09-11T16:06:43.232053",
     "status": "completed"
    },
    "tags": []
   },
   "source": [
    "**Apply & Lambda**"
   ]
  },
  {
   "cell_type": "code",
   "execution_count": 13,
   "id": "87660eb1",
   "metadata": {
    "execution": {
     "iopub.execute_input": "2024-09-11T16:06:43.265367Z",
     "iopub.status.busy": "2024-09-11T16:06:43.264480Z",
     "iopub.status.idle": "2024-09-11T16:06:43.289523Z",
     "shell.execute_reply": "2024-09-11T16:06:43.288341Z"
    },
    "papermill": {
     "duration": 0.039294,
     "end_time": "2024-09-11T16:06:43.291930",
     "exception": false,
     "start_time": "2024-09-11T16:06:43.252636",
     "status": "completed"
    },
    "tags": []
   },
   "outputs": [
    {
     "data": {
      "text/html": [
       "<div>\n",
       "<style scoped>\n",
       "    .dataframe tbody tr th:only-of-type {\n",
       "        vertical-align: middle;\n",
       "    }\n",
       "\n",
       "    .dataframe tbody tr th {\n",
       "        vertical-align: top;\n",
       "    }\n",
       "\n",
       "    .dataframe thead th {\n",
       "        text-align: right;\n",
       "    }\n",
       "</style>\n",
       "<table border=\"1\" class=\"dataframe\">\n",
       "  <thead>\n",
       "    <tr style=\"text-align: right;\">\n",
       "      <th></th>\n",
       "      <th>survived</th>\n",
       "      <th>pclass</th>\n",
       "      <th>sex</th>\n",
       "      <th>age</th>\n",
       "      <th>sibsp</th>\n",
       "      <th>parch</th>\n",
       "      <th>fare</th>\n",
       "      <th>embarked</th>\n",
       "      <th>class</th>\n",
       "      <th>who</th>\n",
       "      <th>adult_male</th>\n",
       "      <th>deck</th>\n",
       "      <th>embark_town</th>\n",
       "      <th>alive</th>\n",
       "      <th>alone</th>\n",
       "      <th>new_age</th>\n",
       "      <th>age_flag</th>\n",
       "    </tr>\n",
       "  </thead>\n",
       "  <tbody>\n",
       "    <tr>\n",
       "      <th>0</th>\n",
       "      <td>0</td>\n",
       "      <td>3</td>\n",
       "      <td>male</td>\n",
       "      <td>22.0</td>\n",
       "      <td>1</td>\n",
       "      <td>0</td>\n",
       "      <td>7.2500</td>\n",
       "      <td>S</td>\n",
       "      <td>Third</td>\n",
       "      <td>man</td>\n",
       "      <td>True</td>\n",
       "      <td>NaN</td>\n",
       "      <td>Southampton</td>\n",
       "      <td>no</td>\n",
       "      <td>False</td>\n",
       "      <td>(18, 25]</td>\n",
       "      <td>1</td>\n",
       "    </tr>\n",
       "    <tr>\n",
       "      <th>1</th>\n",
       "      <td>1</td>\n",
       "      <td>1</td>\n",
       "      <td>female</td>\n",
       "      <td>38.0</td>\n",
       "      <td>1</td>\n",
       "      <td>0</td>\n",
       "      <td>71.2833</td>\n",
       "      <td>C</td>\n",
       "      <td>First</td>\n",
       "      <td>woman</td>\n",
       "      <td>False</td>\n",
       "      <td>C</td>\n",
       "      <td>Cherbourg</td>\n",
       "      <td>yes</td>\n",
       "      <td>False</td>\n",
       "      <td>(25, 40]</td>\n",
       "      <td>0</td>\n",
       "    </tr>\n",
       "    <tr>\n",
       "      <th>2</th>\n",
       "      <td>1</td>\n",
       "      <td>3</td>\n",
       "      <td>female</td>\n",
       "      <td>26.0</td>\n",
       "      <td>0</td>\n",
       "      <td>0</td>\n",
       "      <td>7.9250</td>\n",
       "      <td>S</td>\n",
       "      <td>Third</td>\n",
       "      <td>woman</td>\n",
       "      <td>False</td>\n",
       "      <td>NaN</td>\n",
       "      <td>Southampton</td>\n",
       "      <td>yes</td>\n",
       "      <td>True</td>\n",
       "      <td>(25, 40]</td>\n",
       "      <td>1</td>\n",
       "    </tr>\n",
       "    <tr>\n",
       "      <th>3</th>\n",
       "      <td>1</td>\n",
       "      <td>1</td>\n",
       "      <td>female</td>\n",
       "      <td>35.0</td>\n",
       "      <td>1</td>\n",
       "      <td>0</td>\n",
       "      <td>53.1000</td>\n",
       "      <td>S</td>\n",
       "      <td>First</td>\n",
       "      <td>woman</td>\n",
       "      <td>False</td>\n",
       "      <td>C</td>\n",
       "      <td>Southampton</td>\n",
       "      <td>yes</td>\n",
       "      <td>False</td>\n",
       "      <td>(25, 40]</td>\n",
       "      <td>0</td>\n",
       "    </tr>\n",
       "    <tr>\n",
       "      <th>4</th>\n",
       "      <td>0</td>\n",
       "      <td>3</td>\n",
       "      <td>male</td>\n",
       "      <td>35.0</td>\n",
       "      <td>0</td>\n",
       "      <td>0</td>\n",
       "      <td>8.0500</td>\n",
       "      <td>S</td>\n",
       "      <td>Third</td>\n",
       "      <td>man</td>\n",
       "      <td>True</td>\n",
       "      <td>NaN</td>\n",
       "      <td>Southampton</td>\n",
       "      <td>no</td>\n",
       "      <td>True</td>\n",
       "      <td>(25, 40]</td>\n",
       "      <td>0</td>\n",
       "    </tr>\n",
       "  </tbody>\n",
       "</table>\n",
       "</div>"
      ],
      "text/plain": [
       "   survived  pclass     sex   age  sibsp  parch     fare embarked  class  \\\n",
       "0         0       3    male  22.0      1      0   7.2500        S  Third   \n",
       "1         1       1  female  38.0      1      0  71.2833        C  First   \n",
       "2         1       3  female  26.0      0      0   7.9250        S  Third   \n",
       "3         1       1  female  35.0      1      0  53.1000        S  First   \n",
       "4         0       3    male  35.0      0      0   8.0500        S  Third   \n",
       "\n",
       "     who  adult_male deck  embark_town alive  alone   new_age  age_flag  \n",
       "0    man        True  NaN  Southampton    no  False  (18, 25]         1  \n",
       "1  woman       False    C    Cherbourg   yes  False  (25, 40]         0  \n",
       "2  woman       False  NaN  Southampton   yes   True  (25, 40]         1  \n",
       "3  woman       False    C  Southampton   yes  False  (25, 40]         0  \n",
       "4    man        True  NaN  Southampton    no   True  (25, 40]         0  "
      ]
     },
     "execution_count": 13,
     "metadata": {},
     "output_type": "execute_result"
    }
   ],
   "source": [
    "## with function\n",
    "\n",
    "#def age_funct(age):\n",
    "#    return 1 if age < 30 else 0\n",
    "\n",
    "## with apply and lambda\n",
    "\n",
    "df['age_flag'] = df['age'].apply(lambda age: 1 if age < 30 else 0)\n",
    "df.head()"
   ]
  },
  {
   "cell_type": "markdown",
   "id": "4db3dbc1",
   "metadata": {
    "papermill": {
     "duration": 0.010347,
     "end_time": "2024-09-11T16:06:43.313026",
     "exception": false,
     "start_time": "2024-09-11T16:06:43.302679",
     "status": "completed"
    },
    "tags": []
   },
   "source": [
    "**JOIN**"
   ]
  },
  {
   "cell_type": "code",
   "execution_count": 14,
   "id": "91da5e85",
   "metadata": {
    "execution": {
     "iopub.execute_input": "2024-09-11T16:06:43.336155Z",
     "iopub.status.busy": "2024-09-11T16:06:43.335762Z",
     "iopub.status.idle": "2024-09-11T16:06:43.349566Z",
     "shell.execute_reply": "2024-09-11T16:06:43.348409Z"
    },
    "papermill": {
     "duration": 0.028487,
     "end_time": "2024-09-11T16:06:43.352109",
     "exception": false,
     "start_time": "2024-09-11T16:06:43.323622",
     "status": "completed"
    },
    "tags": []
   },
   "outputs": [
    {
     "data": {
      "text/html": [
       "<div>\n",
       "<style scoped>\n",
       "    .dataframe tbody tr th:only-of-type {\n",
       "        vertical-align: middle;\n",
       "    }\n",
       "\n",
       "    .dataframe tbody tr th {\n",
       "        vertical-align: top;\n",
       "    }\n",
       "\n",
       "    .dataframe thead th {\n",
       "        text-align: right;\n",
       "    }\n",
       "</style>\n",
       "<table border=\"1\" class=\"dataframe\">\n",
       "  <thead>\n",
       "    <tr style=\"text-align: right;\">\n",
       "      <th></th>\n",
       "      <th>letter</th>\n",
       "      <th>number</th>\n",
       "    </tr>\n",
       "  </thead>\n",
       "  <tbody>\n",
       "    <tr>\n",
       "      <th>0</th>\n",
       "      <td>a</td>\n",
       "      <td>1</td>\n",
       "    </tr>\n",
       "    <tr>\n",
       "      <th>1</th>\n",
       "      <td>b</td>\n",
       "      <td>2</td>\n",
       "    </tr>\n",
       "    <tr>\n",
       "      <th>2</th>\n",
       "      <td>c</td>\n",
       "      <td>3</td>\n",
       "    </tr>\n",
       "    <tr>\n",
       "      <th>3</th>\n",
       "      <td>d</td>\n",
       "      <td>4</td>\n",
       "    </tr>\n",
       "  </tbody>\n",
       "</table>\n",
       "</div>"
      ],
      "text/plain": [
       "  letter  number\n",
       "0      a       1\n",
       "1      b       2\n",
       "2      c       3\n",
       "3      d       4"
      ]
     },
     "execution_count": 14,
     "metadata": {},
     "output_type": "execute_result"
    }
   ],
   "source": [
    "##Concat\n",
    "\n",
    "df1 = pd.DataFrame([['a', 1], ['b', 2]], columns=['letter', 'number'])\n",
    "\n",
    "df2 = pd.DataFrame([['c', 3], ['d', 4]], columns=['letter', 'number'])\n",
    "\n",
    "pd.concat([df1, df2], ignore_index=True)"
   ]
  },
  {
   "cell_type": "code",
   "execution_count": 15,
   "id": "d153e449",
   "metadata": {
    "execution": {
     "iopub.execute_input": "2024-09-11T16:06:43.375712Z",
     "iopub.status.busy": "2024-09-11T16:06:43.375312Z",
     "iopub.status.idle": "2024-09-11T16:06:43.396676Z",
     "shell.execute_reply": "2024-09-11T16:06:43.395527Z"
    },
    "papermill": {
     "duration": 0.035981,
     "end_time": "2024-09-11T16:06:43.399095",
     "exception": false,
     "start_time": "2024-09-11T16:06:43.363114",
     "status": "completed"
    },
    "tags": []
   },
   "outputs": [
    {
     "data": {
      "text/html": [
       "<div>\n",
       "<style scoped>\n",
       "    .dataframe tbody tr th:only-of-type {\n",
       "        vertical-align: middle;\n",
       "    }\n",
       "\n",
       "    .dataframe tbody tr th {\n",
       "        vertical-align: top;\n",
       "    }\n",
       "\n",
       "    .dataframe thead th {\n",
       "        text-align: right;\n",
       "    }\n",
       "</style>\n",
       "<table border=\"1\" class=\"dataframe\">\n",
       "  <thead>\n",
       "    <tr style=\"text-align: right;\">\n",
       "      <th></th>\n",
       "      <th>employees</th>\n",
       "      <th>group</th>\n",
       "      <th>start_date</th>\n",
       "    </tr>\n",
       "  </thead>\n",
       "  <tbody>\n",
       "    <tr>\n",
       "      <th>0</th>\n",
       "      <td>john</td>\n",
       "      <td>accounting</td>\n",
       "      <td>2010</td>\n",
       "    </tr>\n",
       "    <tr>\n",
       "      <th>1</th>\n",
       "      <td>dennis</td>\n",
       "      <td>engineering</td>\n",
       "      <td>2009</td>\n",
       "    </tr>\n",
       "    <tr>\n",
       "      <th>2</th>\n",
       "      <td>mark</td>\n",
       "      <td>engineering</td>\n",
       "      <td>2014</td>\n",
       "    </tr>\n",
       "    <tr>\n",
       "      <th>3</th>\n",
       "      <td>maria</td>\n",
       "      <td>hr</td>\n",
       "      <td>2019</td>\n",
       "    </tr>\n",
       "  </tbody>\n",
       "</table>\n",
       "</div>"
      ],
      "text/plain": [
       "  employees        group  start_date\n",
       "0      john   accounting        2010\n",
       "1    dennis  engineering        2009\n",
       "2      mark  engineering        2014\n",
       "3     maria           hr        2019"
      ]
     },
     "execution_count": 15,
     "metadata": {},
     "output_type": "execute_result"
    }
   ],
   "source": [
    "##Merge\n",
    "\n",
    "df1 = pd.DataFrame({'employees': ['john', 'dennis', 'mark', 'maria'], 'group': ['accounting', 'engineering', 'engineering', 'hr']})\n",
    "\n",
    "df2 = pd.DataFrame({'employees': ['john', 'dennis', 'mark', 'maria'], 'start_date': [2010, 2009, 2014, 2019]})\n",
    "\n",
    "pd.merge(df1, df2)"
   ]
  },
  {
   "cell_type": "code",
   "execution_count": 16,
   "id": "da373641",
   "metadata": {
    "execution": {
     "iopub.execute_input": "2024-09-11T16:06:43.423823Z",
     "iopub.status.busy": "2024-09-11T16:06:43.423384Z",
     "iopub.status.idle": "2024-09-11T16:06:43.443230Z",
     "shell.execute_reply": "2024-09-11T16:06:43.442142Z"
    },
    "papermill": {
     "duration": 0.035129,
     "end_time": "2024-09-11T16:06:43.445624",
     "exception": false,
     "start_time": "2024-09-11T16:06:43.410495",
     "status": "completed"
    },
    "tags": []
   },
   "outputs": [
    {
     "data": {
      "text/html": [
       "<div>\n",
       "<style scoped>\n",
       "    .dataframe tbody tr th:only-of-type {\n",
       "        vertical-align: middle;\n",
       "    }\n",
       "\n",
       "    .dataframe tbody tr th {\n",
       "        vertical-align: top;\n",
       "    }\n",
       "\n",
       "    .dataframe thead th {\n",
       "        text-align: right;\n",
       "    }\n",
       "</style>\n",
       "<table border=\"1\" class=\"dataframe\">\n",
       "  <thead>\n",
       "    <tr style=\"text-align: right;\">\n",
       "      <th></th>\n",
       "      <th>employees</th>\n",
       "      <th>group</th>\n",
       "      <th>start_date</th>\n",
       "      <th>manager</th>\n",
       "    </tr>\n",
       "  </thead>\n",
       "  <tbody>\n",
       "    <tr>\n",
       "      <th>0</th>\n",
       "      <td>john</td>\n",
       "      <td>accounting</td>\n",
       "      <td>2010</td>\n",
       "      <td>Caner</td>\n",
       "    </tr>\n",
       "    <tr>\n",
       "      <th>1</th>\n",
       "      <td>dennis</td>\n",
       "      <td>engineering</td>\n",
       "      <td>2009</td>\n",
       "      <td>Mustafa</td>\n",
       "    </tr>\n",
       "    <tr>\n",
       "      <th>2</th>\n",
       "      <td>mark</td>\n",
       "      <td>engineering</td>\n",
       "      <td>2014</td>\n",
       "      <td>Mustafa</td>\n",
       "    </tr>\n",
       "    <tr>\n",
       "      <th>3</th>\n",
       "      <td>maria</td>\n",
       "      <td>hr</td>\n",
       "      <td>2019</td>\n",
       "      <td>Berkcan</td>\n",
       "    </tr>\n",
       "  </tbody>\n",
       "</table>\n",
       "</div>"
      ],
      "text/plain": [
       "  employees        group  start_date  manager\n",
       "0      john   accounting        2010    Caner\n",
       "1    dennis  engineering        2009  Mustafa\n",
       "2      mark  engineering        2014  Mustafa\n",
       "3     maria           hr        2019  Berkcan"
      ]
     },
     "execution_count": 16,
     "metadata": {},
     "output_type": "execute_result"
    }
   ],
   "source": [
    "##Merge with another dataframe(df4)\n",
    "\n",
    "df3 = pd.merge(df1, df2)\n",
    "\n",
    "df4 = pd.DataFrame({'group': ['accounting', 'engineering', 'hr'], 'manager': ['Caner', 'Mustafa', 'Berkcan']})\n",
    "\n",
    "pd.merge(df3, df4)"
   ]
  }
 ],
 "metadata": {
  "kaggle": {
   "accelerator": "none",
   "dataSources": [
    {
     "datasetId": 5680736,
     "sourceId": 9367488,
     "sourceType": "datasetVersion"
    }
   ],
   "dockerImageVersionId": 30761,
   "isGpuEnabled": false,
   "isInternetEnabled": false,
   "language": "python",
   "sourceType": "notebook"
  },
  "kernelspec": {
   "display_name": "Python 3",
   "language": "python",
   "name": "python3"
  },
  "language_info": {
   "codemirror_mode": {
    "name": "ipython",
    "version": 3
   },
   "file_extension": ".py",
   "mimetype": "text/x-python",
   "name": "python",
   "nbconvert_exporter": "python",
   "pygments_lexer": "ipython3",
   "version": "3.10.14"
  },
  "papermill": {
   "default_parameters": {},
   "duration": 6.769755,
   "end_time": "2024-09-11T16:06:44.078605",
   "environment_variables": {},
   "exception": null,
   "input_path": "__notebook__.ipynb",
   "output_path": "__notebook__.ipynb",
   "parameters": {},
   "start_time": "2024-09-11T16:06:37.308850",
   "version": "2.6.0"
  }
 },
 "nbformat": 4,
 "nbformat_minor": 5
}
