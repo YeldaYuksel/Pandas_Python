{
 "cells": [
  {
   "cell_type": "markdown",
   "id": "6d1cab79",
   "metadata": {
    "papermill": {
     "duration": 0.007434,
     "end_time": "2024-09-05T13:41:35.824128",
     "exception": false,
     "start_time": "2024-09-05T13:41:35.816694",
     "status": "completed"
    },
    "tags": []
   },
   "source": [
    "Pandas is a popular library used for data analysis and data manipulation.\n",
    "\n",
    "It allows to read data from many different sources."
   ]
  },
  {
   "cell_type": "markdown",
   "id": "0f58f1ea",
   "metadata": {
    "papermill": {
     "duration": 0.005721,
     "end_time": "2024-09-05T13:41:35.836434",
     "exception": false,
     "start_time": "2024-09-05T13:41:35.830713",
     "status": "completed"
    },
    "tags": []
   },
   "source": [
    "**Pandas Data Structures**\n",
    "\n",
    "Series - One dimensional data structure, contain index information\n",
    "\n",
    "Dataframes - Two dimensional data structure, contain index information"
   ]
  },
  {
   "cell_type": "code",
   "execution_count": 1,
   "id": "e1761cab",
   "metadata": {
    "execution": {
     "iopub.execute_input": "2024-09-05T13:41:35.850803Z",
     "iopub.status.busy": "2024-09-05T13:41:35.850237Z",
     "iopub.status.idle": "2024-09-05T13:41:35.856813Z",
     "shell.execute_reply": "2024-09-05T13:41:35.855652Z"
    },
    "papermill": {
     "duration": 0.01669,
     "end_time": "2024-09-05T13:41:35.859167",
     "exception": false,
     "start_time": "2024-09-05T13:41:35.842477",
     "status": "completed"
    },
    "tags": []
   },
   "outputs": [],
   "source": [
    "##### Importing Pandas Library #####\n",
    "\n",
    "#import pandas as pd"
   ]
  },
  {
   "cell_type": "code",
   "execution_count": 2,
   "id": "7ea06c72",
   "metadata": {
    "execution": {
     "iopub.execute_input": "2024-09-05T13:41:35.873305Z",
     "iopub.status.busy": "2024-09-05T13:41:35.872876Z",
     "iopub.status.idle": "2024-09-05T13:41:35.878186Z",
     "shell.execute_reply": "2024-09-05T13:41:35.876686Z"
    },
    "papermill": {
     "duration": 0.015763,
     "end_time": "2024-09-05T13:41:35.881222",
     "exception": false,
     "start_time": "2024-09-05T13:41:35.865459",
     "status": "completed"
    },
    "tags": []
   },
   "outputs": [],
   "source": [
    "#### Creating Pandas Series and DataFrames ####\n",
    "\n",
    "#s = pd.Series([10, 77, 12, 4, 5])\n",
    "\n",
    "#dfz = pd.DataFrame([10, 77, 12, 4, 5])"
   ]
  },
  {
   "cell_type": "code",
   "execution_count": 3,
   "id": "c8549fdd",
   "metadata": {
    "execution": {
     "iopub.execute_input": "2024-09-05T13:41:35.895681Z",
     "iopub.status.busy": "2024-09-05T13:41:35.895254Z",
     "iopub.status.idle": "2024-09-05T13:41:35.900473Z",
     "shell.execute_reply": "2024-09-05T13:41:35.899250Z"
    },
    "papermill": {
     "duration": 0.015443,
     "end_time": "2024-09-05T13:41:35.903185",
     "exception": false,
     "start_time": "2024-09-05T13:41:35.887742",
     "status": "completed"
    },
    "tags": []
   },
   "outputs": [],
   "source": [
    "### Basic Methods ###\n",
    "\n",
    "# index: -index information\n",
    "# dtype: -data type of elements\n",
    "# size:  -total number of elements\n",
    "# ndim:  -dimension info(1D, 2D, 3D)\n",
    "# head:  -first 5 values\n",
    "# tail:  -last 5 values\n",
    "# shape: -size of each dimension(rows & columns for 2D)\n",
    "# values: -return the values (as an array)\n",
    "\n",
    "\n",
    "## Examples:\n",
    "\n",
    "#s.index\n",
    "#dfz.index\n",
    "#s.head()\n",
    "#dfz.tail()"
   ]
  },
  {
   "cell_type": "markdown",
   "id": "34d0110a",
   "metadata": {
    "papermill": {
     "duration": 0.006233,
     "end_time": "2024-09-05T13:41:35.915572",
     "exception": false,
     "start_time": "2024-09-05T13:41:35.909339",
     "status": "completed"
    },
    "tags": []
   },
   "source": [
    "**Importing dataset from Seaborn to Pandas DataFrame**"
   ]
  },
  {
   "cell_type": "code",
   "execution_count": 4,
   "id": "2560d724",
   "metadata": {
    "execution": {
     "iopub.execute_input": "2024-09-05T13:41:35.930104Z",
     "iopub.status.busy": "2024-09-05T13:41:35.929674Z",
     "iopub.status.idle": "2024-09-05T13:41:35.934900Z",
     "shell.execute_reply": "2024-09-05T13:41:35.933675Z"
    },
    "papermill": {
     "duration": 0.015343,
     "end_time": "2024-09-05T13:41:35.937261",
     "exception": false,
     "start_time": "2024-09-05T13:41:35.921918",
     "status": "completed"
    },
    "tags": []
   },
   "outputs": [],
   "source": [
    "#import pandas as pd\n",
    "#import seaborn as sns\n",
    "\n",
    "#df = sns.load_dataset(\"titanic\")\n",
    "\n",
    "#df.head(2)\n",
    "\n",
    "#df.tail(1)\n",
    "\n",
    "#df.shape  ##output: (891, 15) -- 891 rows and 15 columns\n",
    "\n",
    "#df.info()\n",
    "\n",
    "#df.columns\n",
    "\n",
    "#df.index  ##output: RangeIndex(start=0, stop=891, step=1)"
   ]
  },
  {
   "cell_type": "markdown",
   "id": "1d033199",
   "metadata": {
    "papermill": {
     "duration": 0.005769,
     "end_time": "2024-09-05T13:41:35.949182",
     "exception": false,
     "start_time": "2024-09-05T13:41:35.943413",
     "status": "completed"
    },
    "tags": []
   },
   "source": [
    "**Selection in Pandas**"
   ]
  },
  {
   "cell_type": "code",
   "execution_count": 5,
   "id": "abb0fdbf",
   "metadata": {
    "execution": {
     "iopub.execute_input": "2024-09-05T13:41:35.964102Z",
     "iopub.status.busy": "2024-09-05T13:41:35.962931Z",
     "iopub.status.idle": "2024-09-05T13:41:35.968385Z",
     "shell.execute_reply": "2024-09-05T13:41:35.967234Z"
    },
    "papermill": {
     "duration": 0.015505,
     "end_time": "2024-09-05T13:41:35.970821",
     "exception": false,
     "start_time": "2024-09-05T13:41:35.955316",
     "status": "completed"
    },
    "tags": []
   },
   "outputs": [],
   "source": [
    "#import pandas as pd\n",
    "#import seaborn as sns\n",
    "\n",
    "#df = sns.load_dataset(\"titanic\")\n",
    "\n",
    "\n",
    "#df[0:13] ##slicing first 13 rows\n",
    "\n",
    "#df[[\"age\"]] ##selecting \"age\" variable column\n",
    "\n",
    "#df[[\"age\", \"alive\"]] ##selecting more than one column\n",
    "\n",
    "#col_names = [\"age\", \"adult_male\", \"alive\"]\n",
    "#df[col_names]     ##selecting multiple columns\n",
    "\n",
    "#df[\"age_square\"] = df[\"age\"]**2  ##Adding new column"
   ]
  },
  {
   "cell_type": "markdown",
   "id": "e7d68a4e",
   "metadata": {
    "papermill": {
     "duration": 0.006114,
     "end_time": "2024-09-05T13:41:35.983508",
     "exception": false,
     "start_time": "2024-09-05T13:41:35.977394",
     "status": "completed"
    },
    "tags": []
   },
   "source": [
    "**Deleting Rows - Columns**"
   ]
  },
  {
   "cell_type": "code",
   "execution_count": 6,
   "id": "04f3cb54",
   "metadata": {
    "execution": {
     "iopub.execute_input": "2024-09-05T13:41:35.999158Z",
     "iopub.status.busy": "2024-09-05T13:41:35.998720Z",
     "iopub.status.idle": "2024-09-05T13:41:36.004346Z",
     "shell.execute_reply": "2024-09-05T13:41:36.003084Z"
    },
    "papermill": {
     "duration": 0.017178,
     "end_time": "2024-09-05T13:41:36.006845",
     "exception": false,
     "start_time": "2024-09-05T13:41:35.989667",
     "status": "completed"
    },
    "tags": []
   },
   "outputs": [],
   "source": [
    "#df.drop(0, axis=0).head()             ## 0 ---> index zero , axis=0 ---> Row\n",
    "\n",
    "#delete_indexes = [1, 3, 5, 7]\n",
    "#df.drop(delete_indexes, axis=0).head(10)     ## deletes index 1, 3, 5, and 7\n",
    "\n",
    "\n",
    "## İşlemin kalıcı olması için (To modify  the existing dataframe 'df') :\n",
    "#df = df.drop(delete_indexes, axis=0)               ##OR\n",
    "#df.drop(delete_indexes, axis=0, inplace=True)\n",
    "\n",
    "##deleting columns\n",
    "\n",
    "#df.drop(\"age\", axis=1)                      # deletes column 'age'\n",
    "\n",
    "#col_names = [\"age\", \"adult_male\", \"alive\"]\n",
    "#df.drop(col_names, axis=1)      # deletes 3 columns"
   ]
  },
  {
   "cell_type": "markdown",
   "id": "c666dcb8",
   "metadata": {
    "papermill": {
     "duration": 0.005873,
     "end_time": "2024-09-05T13:41:36.019179",
     "exception": false,
     "start_time": "2024-09-05T13:41:36.013306",
     "status": "completed"
    },
    "tags": []
   },
   "source": [
    "**Converting Variable to an Index**"
   ]
  },
  {
   "cell_type": "code",
   "execution_count": 7,
   "id": "3ae3936b",
   "metadata": {
    "execution": {
     "iopub.execute_input": "2024-09-05T13:41:36.033137Z",
     "iopub.status.busy": "2024-09-05T13:41:36.032691Z",
     "iopub.status.idle": "2024-09-05T13:41:36.037728Z",
     "shell.execute_reply": "2024-09-05T13:41:36.036380Z"
    },
    "papermill": {
     "duration": 0.014951,
     "end_time": "2024-09-05T13:41:36.040295",
     "exception": false,
     "start_time": "2024-09-05T13:41:36.025344",
     "status": "completed"
    },
    "tags": []
   },
   "outputs": [],
   "source": [
    "#df.index = df[\"age\"]\n",
    "## The \"age\" column is now set as the index of the DataFrame\n",
    "\n",
    "#df.drop(\"age\", axis=1)\n",
    "## drop the \"age\" column from the DataFrame\n",
    "\n",
    "#df.drop(\"age\", axis=1, inplace=True) \n",
    "# This permanently drops"
   ]
  },
  {
   "cell_type": "markdown",
   "id": "9a5c221d",
   "metadata": {
    "papermill": {
     "duration": 0.005721,
     "end_time": "2024-09-05T13:41:36.052234",
     "exception": false,
     "start_time": "2024-09-05T13:41:36.046513",
     "status": "completed"
    },
    "tags": []
   },
   "source": [
    "**Converting Index to a Variable**"
   ]
  },
  {
   "cell_type": "code",
   "execution_count": 8,
   "id": "196c1d1f",
   "metadata": {
    "execution": {
     "iopub.execute_input": "2024-09-05T13:41:36.066893Z",
     "iopub.status.busy": "2024-09-05T13:41:36.066456Z",
     "iopub.status.idle": "2024-09-05T13:41:36.071435Z",
     "shell.execute_reply": "2024-09-05T13:41:36.070097Z"
    },
    "papermill": {
     "duration": 0.015546,
     "end_time": "2024-09-05T13:41:36.073904",
     "exception": false,
     "start_time": "2024-09-05T13:41:36.058358",
     "status": "completed"
    },
    "tags": []
   },
   "outputs": [],
   "source": [
    "#df[\"age\"] = df.index\n",
    "                      ### OR ###\n",
    "#df.reset_index()"
   ]
  },
  {
   "cell_type": "markdown",
   "id": "70219cf1",
   "metadata": {
    "papermill": {
     "duration": 0.005768,
     "end_time": "2024-09-05T13:41:36.085852",
     "exception": false,
     "start_time": "2024-09-05T13:41:36.080084",
     "status": "completed"
    },
    "tags": []
   },
   "source": [
    "**Loc and iloc Methods**"
   ]
  },
  {
   "cell_type": "code",
   "execution_count": 9,
   "id": "8897257e",
   "metadata": {
    "execution": {
     "iopub.execute_input": "2024-09-05T13:41:36.099901Z",
     "iopub.status.busy": "2024-09-05T13:41:36.099472Z",
     "iopub.status.idle": "2024-09-05T13:41:36.104771Z",
     "shell.execute_reply": "2024-09-05T13:41:36.103375Z"
    },
    "papermill": {
     "duration": 0.015349,
     "end_time": "2024-09-05T13:41:36.107362",
     "exception": false,
     "start_time": "2024-09-05T13:41:36.092013",
     "status": "completed"
    },
    "tags": []
   },
   "outputs": [],
   "source": [
    "#df.iloc[0, 0]  ## Accessing first row and first column\n",
    "\n",
    "#df.iloc[0:2]   ## Accessing first and second row\n",
    "\n",
    "#df.loc[0:2]    ## Accessing first, second, and third row\n",
    "\n",
    "#df.loc[0, \"age\"] ##Accessing with label\n"
   ]
  },
  {
   "cell_type": "markdown",
   "id": "aec5365f",
   "metadata": {
    "papermill": {
     "duration": 0.006693,
     "end_time": "2024-09-05T13:41:36.120189",
     "exception": false,
     "start_time": "2024-09-05T13:41:36.113496",
     "status": "completed"
    },
    "tags": []
   },
   "source": [
    "**Conditional Selection**"
   ]
  },
  {
   "cell_type": "code",
   "execution_count": 10,
   "id": "19bb6310",
   "metadata": {
    "execution": {
     "iopub.execute_input": "2024-09-05T13:41:36.134728Z",
     "iopub.status.busy": "2024-09-05T13:41:36.134208Z",
     "iopub.status.idle": "2024-09-05T13:41:36.139887Z",
     "shell.execute_reply": "2024-09-05T13:41:36.138451Z"
    },
    "papermill": {
     "duration": 0.015937,
     "end_time": "2024-09-05T13:41:36.142582",
     "exception": false,
     "start_time": "2024-09-05T13:41:36.126645",
     "status": "completed"
    },
    "tags": []
   },
   "outputs": [],
   "source": [
    "#df = sns.load_dataset(\"titanic\")\n",
    "\n",
    "#df[df[\"age\"] > 50] ##select rows where the age > 50\n",
    "\n",
    "#df.loc[df[\"age\"] > 50, \"class\"] ##select class information\n",
    "\n",
    "#df.loc[df[\"age\"] > 50, [\"age\", \"class\"]] ##select age and class information\n",
    "\n",
    "#df.loc[(df[\"age\"] > 50) & (df[\"sex\"] == \"male\"), [\"age\", \"class\"]] ## and (&) condition"
   ]
  },
  {
   "cell_type": "markdown",
   "id": "da854dbd",
   "metadata": {
    "papermill": {
     "duration": 0.00624,
     "end_time": "2024-09-05T13:41:36.156796",
     "exception": false,
     "start_time": "2024-09-05T13:41:36.150556",
     "status": "completed"
    },
    "tags": []
   },
   "source": [
    "**Aggregation & Grouping**"
   ]
  },
  {
   "cell_type": "code",
   "execution_count": 11,
   "id": "ebc19f36",
   "metadata": {
    "execution": {
     "iopub.execute_input": "2024-09-05T13:41:36.175163Z",
     "iopub.status.busy": "2024-09-05T13:41:36.174217Z",
     "iopub.status.idle": "2024-09-05T13:41:36.181056Z",
     "shell.execute_reply": "2024-09-05T13:41:36.179438Z"
    },
    "papermill": {
     "duration": 0.020023,
     "end_time": "2024-09-05T13:41:36.183914",
     "exception": false,
     "start_time": "2024-09-05T13:41:36.163891",
     "status": "completed"
    },
    "tags": []
   },
   "outputs": [],
   "source": [
    "###Group by\n",
    "\n",
    "#df[\"age\"].mean() ##output: 29.69911764705882 --gives the mean of age\n",
    "\n",
    "#df.groupby(\"sex\")[\"age\"].mean() ##gives the mean of age separately\n",
    "\n",
    "\n",
    "\n",
    "###aggregation\n",
    "\n",
    "#df.groupby(\"sex\").agg({\"age\" : \"mean\"})\n",
    "\n",
    "\n",
    "\n",
    "\n",
    "##Group by two levels\n",
    "\n",
    "#df.groupby([\"sex\", \"embark_town\"]).agg({\"age\" : [\"mean\"], \"survived\": \"mean\"})\n",
    "\n"
   ]
  },
  {
   "cell_type": "markdown",
   "id": "2825bf95",
   "metadata": {
    "papermill": {
     "duration": 0.00592,
     "end_time": "2024-09-05T13:41:36.196094",
     "exception": false,
     "start_time": "2024-09-05T13:41:36.190174",
     "status": "completed"
    },
    "tags": []
   },
   "source": [
    "**Pivot Table**"
   ]
  },
  {
   "cell_type": "code",
   "execution_count": 12,
   "id": "f6411986",
   "metadata": {
    "execution": {
     "iopub.execute_input": "2024-09-05T13:41:36.210504Z",
     "iopub.status.busy": "2024-09-05T13:41:36.210042Z",
     "iopub.status.idle": "2024-09-05T13:41:36.215803Z",
     "shell.execute_reply": "2024-09-05T13:41:36.214386Z"
    },
    "papermill": {
     "duration": 0.015843,
     "end_time": "2024-09-05T13:41:36.218547",
     "exception": false,
     "start_time": "2024-09-05T13:41:36.202704",
     "status": "completed"
    },
    "tags": []
   },
   "outputs": [],
   "source": [
    "###Pivot table (similar to groupby)\n",
    "\n",
    "#df.pivot_table(\"survived\", \"sex\", [\"embarked\", \"class\"])\n",
    "\n",
    "#survived ---> values argument\n",
    "#sex ------> index-row\n",
    "#embarked, class ------> columns\n",
    "\n",
    "\n",
    "# Cut function\n",
    "\n",
    "#df[\"new_age\"] = pd.cut(df[\"age\"], [0, 10, 18, 25, 40, 90]) ## create a range of ages\n",
    "\n",
    "#df.head()\n",
    "\n",
    "#df.pivot_table(\"survived\", \"sex\", [\"new_age\", \"class\"]) ##add new_age and class column\n",
    "\n",
    "#pd.set_option('display.width', 500) ##more columns are visible at once"
   ]
  },
  {
   "cell_type": "markdown",
   "id": "23e92ece",
   "metadata": {
    "papermill": {
     "duration": 0.006323,
     "end_time": "2024-09-05T13:41:36.231274",
     "exception": false,
     "start_time": "2024-09-05T13:41:36.224951",
     "status": "completed"
    },
    "tags": []
   },
   "source": [
    "**Apply & Lambda**"
   ]
  },
  {
   "cell_type": "code",
   "execution_count": 13,
   "id": "d5053aa6",
   "metadata": {
    "execution": {
     "iopub.execute_input": "2024-09-05T13:41:36.245247Z",
     "iopub.status.busy": "2024-09-05T13:41:36.244817Z",
     "iopub.status.idle": "2024-09-05T13:41:36.249868Z",
     "shell.execute_reply": "2024-09-05T13:41:36.248599Z"
    },
    "papermill": {
     "duration": 0.014782,
     "end_time": "2024-09-05T13:41:36.252241",
     "exception": false,
     "start_time": "2024-09-05T13:41:36.237459",
     "status": "completed"
    },
    "tags": []
   },
   "outputs": [],
   "source": [
    "## with loops\n",
    "\n",
    "#for col in df.columns:\n",
    "#    if \"age\" in col:\n",
    "#        print((df[col]/10).head())\n",
    "\n",
    "## with apply and lambda\n",
    "\n",
    "#df[[\"age\", \"age2\", \"age3\"]].apply(lambda x: x/10).head()\n"
   ]
  },
  {
   "cell_type": "markdown",
   "id": "dccf1eec",
   "metadata": {
    "papermill": {
     "duration": 0.005807,
     "end_time": "2024-09-05T13:41:36.264250",
     "exception": false,
     "start_time": "2024-09-05T13:41:36.258443",
     "status": "completed"
    },
    "tags": []
   },
   "source": [
    "**JOIN**"
   ]
  },
  {
   "cell_type": "code",
   "execution_count": 14,
   "id": "0845a181",
   "metadata": {
    "execution": {
     "iopub.execute_input": "2024-09-05T13:41:36.278611Z",
     "iopub.status.busy": "2024-09-05T13:41:36.278194Z",
     "iopub.status.idle": "2024-09-05T13:41:36.284505Z",
     "shell.execute_reply": "2024-09-05T13:41:36.283259Z"
    },
    "papermill": {
     "duration": 0.016576,
     "end_time": "2024-09-05T13:41:36.287174",
     "exception": false,
     "start_time": "2024-09-05T13:41:36.270598",
     "status": "completed"
    },
    "tags": []
   },
   "outputs": [],
   "source": [
    "##Concat\n",
    "\n",
    "#df1 = pd.DataFrame({'employees': ['john', 'dennis', 'mark', 'maria'], 'group': ['accounting', 'engineering', 'engineering', 'hr']})\n",
    "\n",
    "#df2 = pd.DataFrame({'employees': ['john', 'dennis', 'mark', 'maria'], 'start_date': [2010, 2009, 2014, 2019]})\n",
    "\n",
    "#pd.concat([df1, df2], ignore_index=True)\n",
    "\n",
    "##output:\n",
    "##   var1  var2  var3\n",
    "##0    10     4    19\n",
    "##1    10     8    11\n",
    "##2     3     5    29\n",
    "##3    23     4    19\n",
    "##4     3    28    11\n",
    "##5   109   103   118\n",
    "##6   109   107   110\n",
    "##7   102   104   128\n",
    "##8   122   103   118\n",
    "##9   102   127   110\n",
    "\n",
    "\n",
    "\n",
    "\n",
    "##Merge\n",
    "\n",
    "#df1 = pd.DataFrame({'employees': ['john', 'dennis', 'mark', 'maria'], 'group': ['accounting', 'engineering', 'engineering', 'hr']})\n",
    "\n",
    "#df2 = pd.DataFrame({'employees': ['john', 'dennis', 'mark', 'maria'], 'start_date': [2010, 2009, 2014, 2019]})\n",
    "\n",
    "#pd.merge(df1, df2)\n",
    "\n",
    "## assigning to a variable\n",
    "#df3 = pd.merge(df1, df2)\n",
    "\n",
    "##output: \n",
    "##   employees        group  start_date\n",
    "##0      john   accounting        2010\n",
    "##1    dennis  engineering        2009\n",
    "##2      mark  engineering        2014\n",
    "##3     maria           hr        2019\n",
    "\n",
    "\n",
    "\n",
    "##Merge with another dataframe(df4)\n",
    "\n",
    "#df3 = pd.merge(df1, df2)\n",
    "\n",
    "#df4 = pd.DataFrame({'group': ['accounting', 'engineering', 'hr'], 'manager': ['Caner', 'Mustafa', 'Berkcan']})\n",
    "\n",
    "#pd.merge(df3, df4)\n",
    "\n",
    "\n",
    "##output:\n",
    "##  employees        group  start_date  manager\n",
    "##0      john   accounting        2010    Caner\n",
    "##1    dennis  engineering        2009  Mustafa\n",
    "##2      mark  engineering        2014  Mustafa\n",
    "##3     maria           hr        2019  Berkcan\n",
    "\n"
   ]
  },
  {
   "cell_type": "code",
   "execution_count": null,
   "id": "98ea98df",
   "metadata": {
    "papermill": {
     "duration": 0.006115,
     "end_time": "2024-09-05T13:41:36.299689",
     "exception": false,
     "start_time": "2024-09-05T13:41:36.293574",
     "status": "completed"
    },
    "tags": []
   },
   "outputs": [],
   "source": []
  }
 ],
 "metadata": {
  "kaggle": {
   "accelerator": "none",
   "dataSources": [],
   "dockerImageVersionId": 30761,
   "isGpuEnabled": false,
   "isInternetEnabled": false,
   "language": "python",
   "sourceType": "notebook"
  },
  "kernelspec": {
   "display_name": "Python 3",
   "language": "python",
   "name": "python3"
  },
  "language_info": {
   "codemirror_mode": {
    "name": "ipython",
    "version": 3
   },
   "file_extension": ".py",
   "mimetype": "text/x-python",
   "name": "python",
   "nbconvert_exporter": "python",
   "pygments_lexer": "ipython3",
   "version": "3.10.14"
  },
  "papermill": {
   "default_parameters": {},
   "duration": 3.743394,
   "end_time": "2024-09-05T13:41:36.727022",
   "environment_variables": {},
   "exception": null,
   "input_path": "__notebook__.ipynb",
   "output_path": "__notebook__.ipynb",
   "parameters": {},
   "start_time": "2024-09-05T13:41:32.983628",
   "version": "2.6.0"
  }
 },
 "nbformat": 4,
 "nbformat_minor": 5
}
